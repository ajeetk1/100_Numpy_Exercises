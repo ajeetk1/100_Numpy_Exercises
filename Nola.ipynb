{
 "cells": [
  {
   "cell_type": "markdown",
   "metadata": {},
   "source": [
    "#### Make the following 4x7 array called nola that starts with 1 and steps by 2. However, note that the first element in each row is always 4 more than the last element in the previous row.\n",
    "\n",
    "nola\n",
    "[[ 1  3  5  7  9 11 13]\n",
    " [17 19 21 23 25 27 29]\n",
    " [33 35 37 39 41 43 45]\n",
    " [49 51 53 55 57 59 61]]"
   ]
  },
  {
   "cell_type": "code",
   "execution_count": null,
   "metadata": {},
   "outputs": [],
   "source": [
    "# Solution \n",
    "import numpy as np\n",
    "# 4 rows and 7 column array initialize\n",
    "# arange creates even spaced array\n",
    "a = np.arange(start=1,stop= 65,step =2)\n",
    "print(a)\n",
    "\n",
    "#Reshape this to array\n",
    "b = a.reshape(4,8)\n",
    "print(b)\n",
    "\n",
    "# slicing to remove last column\n",
    "c = b[:, :-1]\n",
    "print(c)\n",
    "\n",
    "\n",
    "\n"
   ]
  },
  {
   "cell_type": "code",
   "execution_count": 10,
   "metadata": {},
   "outputs": [
    {
     "name": "stdout",
     "output_type": "stream",
     "text": [
      "[1 2 3]\n",
      "[10 11 12 13 14 15 16 17 18 19 20 21 22 23 24 25 26 27 28 29]\n",
      "[1 1 1 2 2 2 3 3 3]\n",
      "[1 2 3 1 2 3]\n",
      "[1 1 1 2 2 2 3 3 3 1 2 3 1 2 3]\n"
     ]
    }
   ],
   "source": [
    "#### Create a following pattern without hardcoding.Use only numpy functions \n",
    "# Input a = np.array([1,2,3])\n",
    "# Output : array [1,1,1,2,2,2,3,3,3,1,2,3,1,2,3]\n",
    "import numpy as np\n",
    "a = np.array([1,2,3])\n",
    "b = np.arange(10,30)\n",
    "print (a)\n",
    "print(b)\n",
    "\n",
    "# Repeat Function \n",
    "d = np.repeat(a,3)\n",
    "print(d)\n",
    "\n",
    "# Arreay reap itself\n",
    "s = np.tile(a,2)\n",
    "print(s)\n",
    "\n",
    "g = np.concatenate((d,s))\n",
    "print(g)"
   ]
  }
 ],
 "metadata": {
  "kernelspec": {
   "display_name": "Python 3",
   "language": "python",
   "name": "python3"
  },
  "language_info": {
   "codemirror_mode": {
    "name": "ipython",
    "version": 3
   },
   "file_extension": ".py",
   "mimetype": "text/x-python",
   "name": "python",
   "nbconvert_exporter": "python",
   "pygments_lexer": "ipython3",
   "version": "3.12.1"
  }
 },
 "nbformat": 4,
 "nbformat_minor": 2
}
