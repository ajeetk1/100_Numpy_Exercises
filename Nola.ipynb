{
 "cells": [
  {
   "cell_type": "markdown",
   "metadata": {},
   "source": [
    "#### Make the following 4x7 array called nola that starts with 1 and steps by 2. However, note that the first element in each row is always 4 more than the last element in the previous row.\n",
    "\n",
    "nola\n",
    "[[ 1  3  5  7  9 11 13]\n",
    " [17 19 21 23 25 27 29]\n",
    " [33 35 37 39 41 43 45]\n",
    " [49 51 53 55 57 59 61]]"
   ]
  },
  {
   "cell_type": "code",
   "execution_count": 1,
   "metadata": {},
   "outputs": [
    {
     "name": "stdout",
     "output_type": "stream",
     "text": [
      "[ 1  3  5  7  9 11 13 15 17 19 21 23 25 27 29 31 33 35 37 39 41 43 45 47\n",
      " 49 51 53 55 57 59 61 63]\n",
      "[[ 1  3  5  7  9 11 13 15]\n",
      " [17 19 21 23 25 27 29 31]\n",
      " [33 35 37 39 41 43 45 47]\n",
      " [49 51 53 55 57 59 61 63]]\n",
      "[[ 1  3  5  7  9 11 13]\n",
      " [17 19 21 23 25 27 29]\n",
      " [33 35 37 39 41 43 45]\n",
      " [49 51 53 55 57 59 61]]\n"
     ]
    }
   ],
   "source": [
    "# Solution \n",
    "import numpy as np\n",
    "# 4 rows and 7 column array initialize\n",
    "# arange creates even spaced array\n",
    "a = np.arange(start=1,stop= 65,step =2)\n",
    "print(a)\n",
    "\n",
    "#Reshape this to array\n",
    "b = a.reshape(4,8)\n",
    "print(b)\n",
    "\n",
    "# slicing to remove last column\n",
    "c = b[:, :-1]\n",
    "print(c)\n",
    "\n",
    "\n",
    "\n"
   ]
  }
 ],
 "metadata": {
  "kernelspec": {
   "display_name": "Python 3",
   "language": "python",
   "name": "python3"
  },
  "language_info": {
   "codemirror_mode": {
    "name": "ipython",
    "version": 3
   },
   "file_extension": ".py",
   "mimetype": "text/x-python",
   "name": "python",
   "nbconvert_exporter": "python",
   "pygments_lexer": "ipython3",
   "version": "3.12.1"
  }
 },
 "nbformat": 4,
 "nbformat_minor": 2
}
