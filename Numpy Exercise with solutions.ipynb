{
 "cells": [
  {
   "cell_type": "markdown",
   "metadata": {},
   "source": [
    "# Numpy Exercise with solutions"
   ]
  },
  {
   "cell_type": "code",
   "execution_count": 2,
   "metadata": {},
   "outputs": [],
   "source": [
    "import numpy as np "
   ]
  },
  {
   "cell_type": "code",
   "execution_count": 7,
   "metadata": {},
   "outputs": [
    {
     "name": "stdout",
     "output_type": "stream",
     "text": [
      "[0. 0. 0. 0. 0. 0. 0. 0. 0. 0.]\n",
      "[0. 0. 0. 0. 1. 0. 0. 0. 0. 0.]\n"
     ]
    }
   ],
   "source": [
    "#### 1:  Create  null vector of size 10 of which fifth value is (1)\n",
    "\n",
    "# Sol:\n",
    "a = np.zeros([10])\n",
    "print(a)\n",
    "\n",
    "a[4] = 1\n",
    "print(a)"
   ]
  },
  {
   "cell_type": "code",
   "execution_count": 15,
   "metadata": {},
   "outputs": [
    {
     "name": "stdout",
     "output_type": "stream",
     "text": [
      "[10 49]\n",
      "[10 11 12 13 14 15 16 17 18 19 20 21 22 23 24 25 26 27 28 29 30 31 32 33\n",
      " 34 35 36 37 38 39 40 41 42 43 44 45 46 47 48]\n",
      "[10.         10.40816327 10.81632653 11.2244898  11.63265306 12.04081633\n",
      " 12.44897959 12.85714286 13.26530612 13.67346939 14.08163265 14.48979592\n",
      " 14.89795918 15.30612245 15.71428571 16.12244898 16.53061224 16.93877551\n",
      " 17.34693878 17.75510204 18.16326531 18.57142857 18.97959184 19.3877551\n",
      " 19.79591837 20.20408163 20.6122449  21.02040816 21.42857143 21.83673469\n",
      " 22.24489796 22.65306122 23.06122449 23.46938776 23.87755102 24.28571429\n",
      " 24.69387755 25.10204082 25.51020408 25.91836735 26.32653061 26.73469388\n",
      " 27.14285714 27.55102041 27.95918367 28.36734694 28.7755102  29.18367347\n",
      " 29.59183673 30.        ]\n"
     ]
    }
   ],
   "source": [
    "#### 2. Create a vector values ranging form 10 to 49\n",
    "\n",
    "# sol:\n",
    "b = np.array([10,49])\n",
    "print(b)\n",
    "\n",
    "c = np.arange(10,49) #  arange() and np. linspace() are NumPy functions used to \n",
    "#generate numerical sequences, but they have some differences in their behavior. \n",
    "# arange() generates a sequence of values from start to stop with a given step size \n",
    "# linspace generates a sequence of num evenly spaced values from start to stop .\n",
    "\n",
    "print(c)\n",
    "\n",
    "d = np.linspace(10,30)\n",
    "print(d)"
   ]
  },
  {
   "cell_type": "code",
   "execution_count": 17,
   "metadata": {},
   "outputs": [
    {
     "name": "stdout",
     "output_type": "stream",
     "text": [
      "[10 20 40]\n",
      "[30 20 10]\n",
      "[10 11 12 13 14 15 16 17 18 19 20 21 22 23 24 25 26 27 28 29 30 31 32 33\n",
      " 34 35 36 37 38 39 40 41 42 43 44 45 46 47 48 49]\n",
      "[49 48 47 46 45 44 43 42 41 40 39 38 37 36 35 34 33 32 31 30 29 28 27 26\n",
      " 25 24 23 22 21 20 19 18 17 16 15 14 13 12 11 10]\n",
      "[49 48 47 46 45 44 43 42 41 40 39 38 37 36 35 34 33 32 31 30 29 28 27 26\n",
      " 25 24 23 22 21 20 19 18 17 16 15 14 13 12 11 10]\n"
     ]
    }
   ],
   "source": [
    "#### 3: Reverse a vector (first Element becomes last)\n",
    "\n",
    "#sol: (Use flip to reverse array)\n",
    "h = np.array([10,20,40])\n",
    "print(h)\n",
    "h = np.flip([10,20,30])\n",
    "print(h)\n",
    "\n",
    "z = np.arange(10,50)\n",
    "print(z)\n",
    "g = np.flip(z)\n",
    "print(g)\n",
    "g = z[::-1] # 2nd Solution\n",
    "print(g)\n"
   ]
  },
  {
   "cell_type": "code",
   "execution_count": 26,
   "metadata": {},
   "outputs": [
    {
     "name": "stdout",
     "output_type": "stream",
     "text": [
      "[[0 1 2]\n",
      " [3 4 5]\n",
      " [6 7 8]]\n",
      "[0 1 2 3 4 5 6 7 8]\n"
     ]
    }
   ],
   "source": [
    "#### 4. Create a 3x3 matrix with values ranging from 0 to 8\n",
    "\n",
    "#sol To create Matrix \n",
    "m=np.array((0,1,2,3,4,5,6,7,8))\n",
    "new_arr= m.reshape(3,3)\n",
    "print(new_arr)\n",
    "print(m)\n",
    "\n"
   ]
  },
  {
   "cell_type": "code",
   "execution_count": 38,
   "metadata": {},
   "outputs": [
    {
     "name": "stdout",
     "output_type": "stream",
     "text": [
      "(array([0, 1, 4]),)\n"
     ]
    }
   ],
   "source": [
    "#### 5. Find indices of Non Zero Element from [1,2,0,0,4,0]\n",
    "# sol. We can use nonzero to find \n",
    "\n",
    "j = np.nonzero([1,2,0,0,4,0])\n",
    "print(j)\n",
    "\n"
   ]
  },
  {
   "cell_type": "code",
   "execution_count": 42,
   "metadata": {},
   "outputs": [
    {
     "name": "stdout",
     "output_type": "stream",
     "text": [
      "[[1. 0. 0.]\n",
      " [0. 1. 0.]\n",
      " [0. 0. 1.]]\n"
     ]
    }
   ],
   "source": [
    "#### 6 Create a 3x3 identity matrix \n",
    "\n",
    "#sol. \n",
    "s = np.identity(3)\n",
    "print(s)\n"
   ]
  },
  {
   "cell_type": "code",
   "execution_count": 55,
   "metadata": {},
   "outputs": [
    {
     "name": "stdout",
     "output_type": "stream",
     "text": [
      "[[[0.55357436 0.51891011 0.26686042]\n",
      "  [0.87461293 0.20964761 0.58084062]\n",
      "  [0.35759948 0.19798549 0.99342408]]\n",
      "\n",
      " [[0.661671   0.2993363  0.6614088 ]\n",
      "  [0.59119888 0.1095634  0.70337228]\n",
      "  [0.75835868 0.01027112 0.14379615]]\n",
      "\n",
      " [[0.40235374 0.80862339 0.65489984]\n",
      "  [0.09552856 0.99339556 0.64696703]\n",
      "  [0.2443489  0.4491325  0.594756  ]]]\n"
     ]
    }
   ],
   "source": [
    "#### 7 Create a 3x3x3 array with random values \n",
    "# sol.\n",
    "\n",
    "new = np.random.random((3,3,3))\n",
    "print(new)"
   ]
  },
  {
   "cell_type": "code",
   "execution_count": null,
   "metadata": {},
   "outputs": [],
   "source": [
    "#### 8 Create a 10x10 array with random values and find the minimum and maximum values\n",
    "# sol.\n",
    " \n",
    "kite = np.random.random(10,10)\n",
    "print(kite)\n",
    "\n",
    "max.value = np.max(kite)  # Maximum Value \n",
    "min.value = np.min(kite)  # Minimum Value\n",
    "print(max.value)\n",
    "print(min.value)"
   ]
  },
  {
   "cell_type": "code",
   "execution_count": null,
   "metadata": {},
   "outputs": [],
   "source": [
    "#### 9 Create a 2D array with 1 on border and 0 inside\n",
    "#sol.\n",
    "\n",
    "# Create (x,y) array with 1 border and 0 inside \n",
    "\n",
    "arr = np.ones((10,10))\n",
    "print(arr)\n",
    "\n",
    "# Now if I replace row & column 1 with 0 inside that I get the desired matrix \n",
    "\n",
    "arr[1:-1,1:-1] =0  # Slicing of Array from index 1 to - 1 index\n",
    "print(arr)\n",
    "\n",
    "#### How to add a border (filled with 0's) around an existing array? \n",
    "\n",
    "# Modifying the array 'x' to set 0s on the border and 1s inside the array using the np.pad function\n",
    "print(\"0 on the border and 1 inside in the array\")\n",
    "x = np.pad(arr, pad_width=1, mode='constant', constant_values=0)\n",
    "\n",
    "print(x)"
   ]
  },
  {
   "cell_type": "code",
   "execution_count": null,
   "metadata": {},
   "outputs": [],
   "source": [
    "#### 7 Create a random vector of size 30 and find the mean value\n",
    "# sol.\n",
    "\n",
    "random_vector = np.random.random(30)\n",
    "print(random_vector)\n",
    "mean_value = np.mean(random_vector)\n"
   ]
  }
 ],
 "metadata": {
  "kernelspec": {
   "display_name": "Python 3",
   "language": "python",
   "name": "python3"
  },
  "language_info": {
   "codemirror_mode": {
    "name": "ipython",
    "version": 3
   },
   "file_extension": ".py",
   "mimetype": "text/x-python",
   "name": "python",
   "nbconvert_exporter": "python",
   "pygments_lexer": "ipython3",
   "version": "3.9.6"
  }
 },
 "nbformat": 4,
 "nbformat_minor": 2
}
