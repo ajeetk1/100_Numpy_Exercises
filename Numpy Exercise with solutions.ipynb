{
 "cells": [
  {
   "cell_type": "markdown",
   "metadata": {},
   "source": [
    "# Numpy Exercise with solutions"
   ]
  },
  {
   "cell_type": "code",
   "execution_count": 2,
   "metadata": {},
   "outputs": [],
   "source": [
    "import numpy as np "
   ]
  },
  {
   "cell_type": "code",
   "execution_count": 7,
   "metadata": {},
   "outputs": [
    {
     "name": "stdout",
     "output_type": "stream",
     "text": [
      "[0. 0. 0. 0. 0. 0. 0. 0. 0. 0.]\n",
      "[0. 0. 0. 0. 1. 0. 0. 0. 0. 0.]\n"
     ]
    }
   ],
   "source": [
    "#### 1:  Create  null vector of size 10 of which fifth value is (1)\n",
    "\n",
    "# Sol:\n",
    "a = np.zeros([10])\n",
    "print(a)\n",
    "\n",
    "a[4] = 1\n",
    "print(a)"
   ]
  },
  {
   "cell_type": "code",
   "execution_count": null,
   "metadata": {},
   "outputs": [],
   "source": [
    "#### Make an array immutable (read-only) \n",
    "# sol\n",
    "# Created an array\n",
    "a = np.zeros([10])\n",
    "print (a)\n",
    "# set the writable to false makes array immutable. Any modification will result in error.\n",
    "a.flags.writable = False\n",
    "z[0] = 1 # Modifying the array result in value error\n"
   ]
  },
  {
   "cell_type": "code",
   "execution_count": 17,
   "metadata": {},
   "outputs": [
    {
     "name": "stdout",
     "output_type": "stream",
     "text": [
      "[10 20 40]\n",
      "[30 20 10]\n",
      "[10 11 12 13 14 15 16 17 18 19 20 21 22 23 24 25 26 27 28 29 30 31 32 33\n",
      " 34 35 36 37 38 39 40 41 42 43 44 45 46 47 48 49]\n",
      "[49 48 47 46 45 44 43 42 41 40 39 38 37 36 35 34 33 32 31 30 29 28 27 26\n",
      " 25 24 23 22 21 20 19 18 17 16 15 14 13 12 11 10]\n",
      "[49 48 47 46 45 44 43 42 41 40 39 38 37 36 35 34 33 32 31 30 29 28 27 26\n",
      " 25 24 23 22 21 20 19 18 17 16 15 14 13 12 11 10]\n"
     ]
    }
   ],
   "source": [
    "#### 3: Reverse a vector (first Element becomes last)\n",
    "\n",
    "#sol: (Use flip to reverse array)\n",
    "h = np.array([10,20,40])\n",
    "print(h)\n",
    "h = np.flip([10,20,30])\n",
    "print(h)\n",
    "\n",
    "z = np.arange(10,50)\n",
    "print(z)\n",
    "g = np.flip(z)\n",
    "print(g)\n",
    "g = z[::-1] # 2nd Solution\n",
    "print(g)\n"
   ]
  },
  {
   "cell_type": "code",
   "execution_count": 26,
   "metadata": {},
   "outputs": [
    {
     "name": "stdout",
     "output_type": "stream",
     "text": [
      "[[0 1 2]\n",
      " [3 4 5]\n",
      " [6 7 8]]\n",
      "[0 1 2 3 4 5 6 7 8]\n"
     ]
    }
   ],
   "source": [
    "#### 4. Create a 3x3 matrix with values ranging from 0 to 8\n",
    "\n",
    "#sol To create Matrix \n",
    "m=np.array((0,1,2,3,4,5,6,7,8))\n",
    "new_arr= m.reshape(3,3)\n",
    "print(new_arr)\n",
    "print(m)\n",
    "\n"
   ]
  },
  {
   "cell_type": "code",
   "execution_count": null,
   "metadata": {},
   "outputs": [],
   "source": [
    "#### . What are the results of the following expressions\n",
    "# np.array(0)/np.array(0)  -nan\n",
    "# np.array(0) //np.array(0) - 0 \n",
    "# np.array([np.nan]).astype(int).astype(float)  REsult[[-9.22337204e+18]]\n",
    "\n",
    "#sol.\n",
    "a = np.array(0) \n",
    "b = np.array(0)\n",
    "\n",
    "c = a/b \n",
    "print(c)\n",
    "\n",
    "c = a//b \n",
    "print(c)\n",
    "\n",
    "h = np.array([np.nan]).astype(int).astype(float)\n",
    "# np.nan = not a number create a array with one not a number value\n",
    "# astype(int)  converts float to int & astype(float) int to float\n",
    "print(h)\n"
   ]
  },
  {
   "cell_type": "code",
   "execution_count": null,
   "metadata": {},
   "outputs": [],
   "source": [
    "####. How to find common values between array\n",
    "# sol\n",
    "\n",
    "# Create two random array\n",
    "a = np.random.randomint[(10,10,4)]\n",
    "b = np.random.randomint([10,10,4])\n",
    "print(a)\n",
    "print(b)\n",
    "\n",
    "d = np.intersect1d(a,b) #Common value\n",
    "print(d)\n",
    "\n",
    "\n"
   ]
  },
  {
   "cell_type": "code",
   "execution_count": 38,
   "metadata": {},
   "outputs": [
    {
     "name": "stdout",
     "output_type": "stream",
     "text": [
      "(array([0, 1, 4]),)\n"
     ]
    }
   ],
   "source": [
    "#### 5. Find indices of Non Zero Element from [1,2,0,0,4,0]\n",
    "# sol. We can use nonzero to find \n",
    "\n",
    "j = np.nonzero([1,2,0,0,4,0])\n",
    "print(j)\n",
    "\n"
   ]
  },
  {
   "cell_type": "code",
   "execution_count": 42,
   "metadata": {},
   "outputs": [
    {
     "name": "stdout",
     "output_type": "stream",
     "text": [
      "[[1. 0. 0.]\n",
      " [0. 1. 0.]\n",
      " [0. 0. 1.]]\n"
     ]
    }
   ],
   "source": [
    "#### 6 Create a 3x3 identity matrix \n",
    "\n",
    "#sol. \n",
    "s = np.identity(3)\n",
    "print(s)"
   ]
  },
  {
   "cell_type": "code",
   "execution_count": 55,
   "metadata": {},
   "outputs": [
    {
     "name": "stdout",
     "output_type": "stream",
     "text": [
      "[[[0.55357436 0.51891011 0.26686042]\n",
      "  [0.87461293 0.20964761 0.58084062]\n",
      "  [0.35759948 0.19798549 0.99342408]]\n",
      "\n",
      " [[0.661671   0.2993363  0.6614088 ]\n",
      "  [0.59119888 0.1095634  0.70337228]\n",
      "  [0.75835868 0.01027112 0.14379615]]\n",
      "\n",
      " [[0.40235374 0.80862339 0.65489984]\n",
      "  [0.09552856 0.99339556 0.64696703]\n",
      "  [0.2443489  0.4491325  0.594756  ]]]\n"
     ]
    }
   ],
   "source": [
    "#### 7 Create a 3x3x3 array with random values \n",
    "# sol.\n",
    "\n",
    "new = np.random.random((3,3,3))\n",
    "print(new)"
   ]
  },
  {
   "cell_type": "code",
   "execution_count": null,
   "metadata": {},
   "outputs": [],
   "source": [
    "#### 8 Create a 10x10 array with random values and find the minimum and maximum values\n",
    "# sol.\n",
    " \n",
    "kite = np.random.random(10,10)\n",
    "print(kite)\n",
    "\n",
    "max.value = np.max(kite)  # Maximum Value \n",
    "min.value = np.min(kite)  # Minimum Value\n",
    "print(max.value)\n",
    "print(min.value)"
   ]
  },
  {
   "cell_type": "code",
   "execution_count": null,
   "metadata": {},
   "outputs": [],
   "source": [
    "#### 9 Create a 2D array with 1 on border and 0 inside\n",
    "#sol.\n",
    "\n",
    "# Create (x,y) array with 1 border and 0 inside \n",
    "\n",
    "arr = np.ones((10,10))\n",
    "print(arr)\n",
    "\n",
    "# Now if I replace row & column 1 with 0 inside that I get the desired matrix \n",
    "\n",
    "arr[1:-1,1:-1] =0  # Slicing of Array from index 1 to - 1 index\n",
    "print(arr)\n",
    "\n",
    "#### How to add a border (filled with 0's) around an existing array? \n",
    "\n",
    "# Modifying the array 'x' to set 0s on the border and 1s inside the array using the np.pad function\n",
    "print(\"0 on the border and 1 inside in the array\")\n",
    "x = np.pad(arr, pad_width=1, mode='constant', constant_values=0)\n",
    "\n",
    "print(x)"
   ]
  },
  {
   "cell_type": "code",
   "execution_count": null,
   "metadata": {},
   "outputs": [],
   "source": [
    "#### 7 Create a random vector of size 30 and find the mean value\n",
    "# sol.\n",
    "\n",
    "random_vector = np.random.random(30)\n",
    "print(random_vector)\n",
    "mean_value = np.mean(random_vector)\n"
   ]
  }
 ],
 "metadata": {
  "kernelspec": {
   "display_name": "Python 3",
   "language": "python",
   "name": "python3"
  },
  "language_info": {
   "codemirror_mode": {
    "name": "ipython",
    "version": 3
   },
   "file_extension": ".py",
   "mimetype": "text/x-python",
   "name": "python",
   "nbconvert_exporter": "python",
   "pygments_lexer": "ipython3",
   "version": "3.9.6"
  }
 },
 "nbformat": 4,
 "nbformat_minor": 2
}
