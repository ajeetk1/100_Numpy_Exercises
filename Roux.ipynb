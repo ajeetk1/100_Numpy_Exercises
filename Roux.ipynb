{
 "cells": [
  {
   "cell_type": "markdown",
   "metadata": {},
   "source": [
    "#### Define a  roux array as a 1-D array such that, when it's reversed, \n",
    "#### it represents the sequence of square numbers 1, 4, 9, 16, ... with 0s interwoven between them.\n",
    "\n",
    "##### Example # roux array of length 5\n",
    "##### [9 0 4 0 1]"
   ]
  },
  {
   "cell_type": "code",
   "execution_count": 25,
   "metadata": {},
   "outputs": [
    {
     "name": "stdout",
     "output_type": "stream",
     "text": [
      "Roux array: [9 0 4 0 1]\n"
     ]
    }
   ],
   "source": [
    "import numpy as np\n",
    "\n",
    "# Step 1: Define the length of the array\n",
    "n = 5  # Desired length of the roux array\n",
    "\n",
    "# Step 2: Calculate the maximum square numbers needed\n",
    "num_squares = (n + 1) // 2  # Number of square numbers\n",
    "squares = np.array([i ** 2 for i in range(1, num_squares + 1)][::-1])  # Square numbers in reverse\n",
    "\n",
    "# Step 3: Create the roux array with interwoven zeros\n",
    "roux_array = np.zeros(n, dtype=int)  # Create a zero-filled array\n",
    "roux_array[::2] = squares  # Place square numbers at every other index\n",
    "\n",
    "print(\"Roux array:\", roux_array)\n",
    "\n",
    "\n",
    "\n",
    "\n",
    "\n",
    "    "
   ]
  },
  {
   "cell_type": "code",
   "execution_count": null,
   "metadata": {},
   "outputs": [],
   "source": []
  }
 ],
 "metadata": {
  "kernelspec": {
   "display_name": "Python 3",
   "language": "python",
   "name": "python3"
  },
  "language_info": {
   "codemirror_mode": {
    "name": "ipython",
    "version": 3
   },
   "file_extension": ".py",
   "mimetype": "text/x-python",
   "name": "python",
   "nbconvert_exporter": "python",
   "pygments_lexer": "ipython3",
   "version": "3.12.1"
  }
 },
 "nbformat": 4,
 "nbformat_minor": 2
}
